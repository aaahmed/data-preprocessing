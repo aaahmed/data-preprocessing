{
 "cells": [
  {
   "cell_type": "markdown",
   "metadata": {},
   "source": [
    "# Age and Education Level of 2017 Czech Parliament Election Candidates\n",
    "\n",
    "Choose at least three parties that are going to participate in the election.\n",
    "Scrap the web pages https://volby.cz to get list of all candidates for the chosen parties\n",
    "(good place to start: https://volby.cz/pls/ps2017/ps11?xjazyk=CZ&xv=1&xt=1)."
   ]
  },
  {
   "cell_type": "code",
   "execution_count": 1,
   "metadata": {},
   "outputs": [],
   "source": [
    "import requests\n",
    "import pandas as pd\n",
    "import matplotlib.pyplot as plt"
   ]
  },
  {
   "cell_type": "code",
   "execution_count": 2,
   "metadata": {},
   "outputs": [],
   "source": [
    "%matplotlib inline"
   ]
  },
  {
   "cell_type": "code",
   "execution_count": 3,
   "metadata": {},
   "outputs": [],
   "source": [
    "def read_party_df(url):\n",
    "    r = requests.get(url)\n",
    "    dfs = pd.read_html(r.text, flavor='bs4', skiprows=2)\n",
    "    column_names = {1: 'Kraj', 2: 'Number', 3: 'Name', 4: 'Age',\n",
    "                    5: 'Party', 6: 'Political affiliation'}\n",
    "    # first two rows are columns names\n",
    "    # drop uninmportant columns\n",
    "    # correct columns names\n",
    "    return dfs[0].drop([0, 1])\\\n",
    "                 .drop([0, 7, 8], axis=1)\\\n",
    "                 .rename(index=lambda x: x - 2, columns=column_names)"
   ]
  },
  {
   "cell_type": "code",
   "execution_count": 4,
   "metadata": {},
   "outputs": [],
   "source": [
    "urls = {\n",
    "    'ANO': 'https://volby.cz/pls/ps2017/ps111?xjazyk=CZ&xkraj=0&xstrana=21&xv=1&xt=1',\n",
    "    'DSSS': 'https://volby.cz/pls/ps2017/ps111?xjazyk=CZ&xkraj=0&xstrana=28&xv=1&xt=1',\n",
    "    'KSČM': 'https://volby.cz/pls/ps2017/ps111?xjazyk=CZ&xkraj=0&xstrana=8&xv=1&xt=1',\n",
    "    'Piráti': 'https://volby.cz/pls/ps2017/ps111?xjazyk=CZ&xkraj=0&xstrana=15&xv=1&xt=1',\n",
    "}\n",
    "\n",
    "df = pd.concat({party: read_party_df(url) for party, url in urls.items()})"
   ]
  },
  {
   "cell_type": "code",
   "execution_count": 5,
   "metadata": {},
   "outputs": [
    {
     "name": "stdout",
     "output_type": "stream",
     "text": [
      "<class 'pandas.core.frame.DataFrame'>\n",
      "MultiIndex: 1359 entries, (ANO, 0) to (Piráti, 335)\n",
      "Data columns (total 6 columns):\n",
      "Kraj                     1359 non-null object\n",
      "Number                   1359 non-null int64\n",
      "Name                     1359 non-null object\n",
      "Age                      1359 non-null int64\n",
      "Party                    1359 non-null object\n",
      "Political affiliation    1359 non-null object\n",
      "dtypes: int64(2), object(4)\n",
      "memory usage: 70.4+ KB\n"
     ]
    }
   ],
   "source": [
    "df.info()"
   ]
  },
  {
   "cell_type": "code",
   "execution_count": 6,
   "metadata": {},
   "outputs": [
    {
     "data": {
      "text/html": [
       "<div>\n",
       "<style>\n",
       "    .dataframe thead tr:only-child th {\n",
       "        text-align: right;\n",
       "    }\n",
       "\n",
       "    .dataframe thead th {\n",
       "        text-align: left;\n",
       "    }\n",
       "\n",
       "    .dataframe tbody tr th {\n",
       "        vertical-align: top;\n",
       "    }\n",
       "</style>\n",
       "<table border=\"1\" class=\"dataframe\">\n",
       "  <thead>\n",
       "    <tr style=\"text-align: right;\">\n",
       "      <th></th>\n",
       "      <th></th>\n",
       "      <th>Kraj</th>\n",
       "      <th>Number</th>\n",
       "      <th>Name</th>\n",
       "      <th>Age</th>\n",
       "      <th>Party</th>\n",
       "      <th>Political affiliation</th>\n",
       "    </tr>\n",
       "  </thead>\n",
       "  <tbody>\n",
       "    <tr>\n",
       "      <th rowspan=\"5\" valign=\"top\">ANO</th>\n",
       "      <th>0</th>\n",
       "      <td>Pardubický</td>\n",
       "      <td>14</td>\n",
       "      <td>Akerman Miloš</td>\n",
       "      <td>61</td>\n",
       "      <td>ANO</td>\n",
       "      <td>ANO</td>\n",
       "    </tr>\n",
       "    <tr>\n",
       "      <th>1</th>\n",
       "      <td>Ústecký</td>\n",
       "      <td>22</td>\n",
       "      <td>Andrš Radek Ing.</td>\n",
       "      <td>48</td>\n",
       "      <td>ANO</td>\n",
       "      <td>ANO</td>\n",
       "    </tr>\n",
       "    <tr>\n",
       "      <th>2</th>\n",
       "      <td>Karlovarský</td>\n",
       "      <td>10</td>\n",
       "      <td>Arnoldová Lenka Mgr. et Mgr.</td>\n",
       "      <td>52</td>\n",
       "      <td>ANO</td>\n",
       "      <td>ANO</td>\n",
       "    </tr>\n",
       "    <tr>\n",
       "      <th>3</th>\n",
       "      <td>Jihomoravský</td>\n",
       "      <td>24</td>\n",
       "      <td>Artimová Zuzana Olga Ing.</td>\n",
       "      <td>53</td>\n",
       "      <td>ANO</td>\n",
       "      <td>ANO</td>\n",
       "    </tr>\n",
       "    <tr>\n",
       "      <th>4</th>\n",
       "      <td>Moravskoslezský</td>\n",
       "      <td>27</td>\n",
       "      <td>Babinec Radim Mgr.</td>\n",
       "      <td>43</td>\n",
       "      <td>ANO</td>\n",
       "      <td>ANO</td>\n",
       "    </tr>\n",
       "  </tbody>\n",
       "</table>\n",
       "</div>"
      ],
      "text/plain": [
       "                  Kraj  Number                          Name  Age Party  \\\n",
       "ANO 0       Pardubický      14                 Akerman Miloš   61   ANO   \n",
       "    1          Ústecký      22              Andrš Radek Ing.   48   ANO   \n",
       "    2      Karlovarský      10  Arnoldová Lenka Mgr. et Mgr.   52   ANO   \n",
       "    3     Jihomoravský      24     Artimová Zuzana Olga Ing.   53   ANO   \n",
       "    4  Moravskoslezský      27            Babinec Radim Mgr.   43   ANO   \n",
       "\n",
       "      Political affiliation  \n",
       "ANO 0                   ANO  \n",
       "    1                   ANO  \n",
       "    2                   ANO  \n",
       "    3                   ANO  \n",
       "    4                   ANO  "
      ]
     },
     "execution_count": 6,
     "metadata": {},
     "output_type": "execute_result"
    }
   ],
   "source": [
    "df.head()"
   ]
  },
  {
   "cell_type": "markdown",
   "metadata": {},
   "source": [
    "## 1. Use Data Visualisation to Depict the Age Distribution of Candidates\n",
    "    \n",
    "- How many candidates are young/old/middle aged?\n",
    "- Which party has older candidates compared to the others?"
   ]
  },
  {
   "cell_type": "code",
   "execution_count": 7,
   "metadata": {},
   "outputs": [
    {
     "data": {
      "text/html": [
       "<div>\n",
       "<style>\n",
       "    .dataframe thead tr:only-child th {\n",
       "        text-align: right;\n",
       "    }\n",
       "\n",
       "    .dataframe thead th {\n",
       "        text-align: left;\n",
       "    }\n",
       "\n",
       "    .dataframe tbody tr th {\n",
       "        vertical-align: top;\n",
       "    }\n",
       "</style>\n",
       "<table border=\"1\" class=\"dataframe\">\n",
       "  <thead>\n",
       "    <tr style=\"text-align: right;\">\n",
       "      <th></th>\n",
       "      <th>count</th>\n",
       "      <th>mean</th>\n",
       "      <th>std</th>\n",
       "      <th>min</th>\n",
       "      <th>25%</th>\n",
       "      <th>50%</th>\n",
       "      <th>75%</th>\n",
       "      <th>max</th>\n",
       "    </tr>\n",
       "  </thead>\n",
       "  <tbody>\n",
       "    <tr>\n",
       "      <th>ANO</th>\n",
       "      <td>341.0</td>\n",
       "      <td>48.580645</td>\n",
       "      <td>10.252264</td>\n",
       "      <td>22.0</td>\n",
       "      <td>42.0</td>\n",
       "      <td>48.0</td>\n",
       "      <td>56.0</td>\n",
       "      <td>72.0</td>\n",
       "    </tr>\n",
       "    <tr>\n",
       "      <th>DSSS</th>\n",
       "      <td>341.0</td>\n",
       "      <td>44.422287</td>\n",
       "      <td>12.944587</td>\n",
       "      <td>21.0</td>\n",
       "      <td>34.0</td>\n",
       "      <td>44.0</td>\n",
       "      <td>53.0</td>\n",
       "      <td>74.0</td>\n",
       "    </tr>\n",
       "    <tr>\n",
       "      <th>KSČM</th>\n",
       "      <td>341.0</td>\n",
       "      <td>49.841642</td>\n",
       "      <td>12.639044</td>\n",
       "      <td>21.0</td>\n",
       "      <td>41.0</td>\n",
       "      <td>51.0</td>\n",
       "      <td>61.0</td>\n",
       "      <td>74.0</td>\n",
       "    </tr>\n",
       "    <tr>\n",
       "      <th>Piráti</th>\n",
       "      <td>336.0</td>\n",
       "      <td>37.157738</td>\n",
       "      <td>10.743778</td>\n",
       "      <td>21.0</td>\n",
       "      <td>30.0</td>\n",
       "      <td>34.0</td>\n",
       "      <td>43.0</td>\n",
       "      <td>71.0</td>\n",
       "    </tr>\n",
       "  </tbody>\n",
       "</table>\n",
       "</div>"
      ],
      "text/plain": [
       "        count       mean        std   min   25%   50%   75%   max\n",
       "ANO     341.0  48.580645  10.252264  22.0  42.0  48.0  56.0  72.0\n",
       "DSSS    341.0  44.422287  12.944587  21.0  34.0  44.0  53.0  74.0\n",
       "KSČM    341.0  49.841642  12.639044  21.0  41.0  51.0  61.0  74.0\n",
       "Piráti  336.0  37.157738  10.743778  21.0  30.0  34.0  43.0  71.0"
      ]
     },
     "execution_count": 7,
     "metadata": {},
     "output_type": "execute_result"
    }
   ],
   "source": [
    "df['Age'].groupby(level=0).describe()"
   ]
  },
  {
   "cell_type": "code",
   "execution_count": 8,
   "metadata": {},
   "outputs": [
    {
     "data": {
      "image/png": "[encoded data removed]",
      "text/plain": [
       "<matplotlib.figure.Figure at 0x7f627647ef60>"
      ]
     },
     "metadata": {},
     "output_type": "display_data"
    }
   ],
   "source": [
    "axes = df.hist(column='Age', by='Party', sharex=True)\n",
    "for ax in axes.ravel():\n",
    "    ax.set_xlabel('Age')\n",
    "    ax.set_ylabel('Frequency')"
   ]
  },
  {
   "cell_type": "code",
   "execution_count": 9,
   "metadata": {
    "scrolled": true
   },
   "outputs": [
    {
     "data": {
      "text/plain": [
       "<matplotlib.text.Text at 0x7f6276dce908>"
      ]
     },
     "execution_count": 9,
     "metadata": {},
     "output_type": "execute_result"
    },
    {
     "data": {
      "image/png": "[encoded data removed]",
      "text/plain": [
       "<matplotlib.figure.Figure at 0x7f6276e01c50>"
      ]
     },
     "metadata": {},
     "output_type": "display_data"
    }
   ],
   "source": [
    "ax = df.boxplot(column='Age', by='Party')\n",
    "ax.set_title('')\n",
    "ax.set_ylabel('Age')"
   ]
  },
  {
   "cell_type": "markdown",
   "metadata": {},
   "source": [
    "## 2. Use the Titles of Candidates to Get the Idea on Education Levels\n",
    "\n",
    "\n",
    "Try to distinguish at least three education levels corresponding to:\n",
    "\n",
    "- no title,\n",
    "- Bc.,\n",
    "- Ing., Mgr. and analogous and higher.\n",
    "    \n",
    "E.g. *Barteček Ivo prof. PhDr. CSc.* has three titles 'prof.', 'PhDr.' and 'CSc.'.\n",
    "\n",
    "Your visualisation should answer at least these questions:\n",
    "\n",
    "- How frequent are the education levels of candidates for each of the chousen parties?\n",
    "- How *'educated'* is each party compared to the others?\n",
    "- How frequent is each education level within all candidates?"
   ]
  }
 ],
 "metadata": {
  "kernelspec": {
   "display_name": "Python 3",
   "language": "python",
   "name": "python3"
  },
  "language_info": {
   "codemirror_mode": {
    "name": "ipython",
    "version": 3
   },
   "file_extension": ".py",
   "mimetype": "text/x-python",
   "name": "python",
   "nbconvert_exporter": "python",
   "pygments_lexer": "ipython3",
   "version": "3.6.1"
  }
 },
 "nbformat": 4,
 "nbformat_minor": 2
}
