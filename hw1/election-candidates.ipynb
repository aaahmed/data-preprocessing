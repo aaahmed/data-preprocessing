{
 "cells": [
  {
   "cell_type": "markdown",
   "metadata": {},
   "source": [
    "# Age and Education Level of 2017 Czech Parliament Election Candidates\n",
    "\n",
    "Choose at least three parties that are going to participate in the election.\n",
    "Scrap the web pages https://volby.cz to get list of all candidates for the chosen parties\n",
    "(good place to start: https://volby.cz/pls/ps2017/ps11?xjazyk=CZ&xv=1&xt=1)."
   ]
  },
  {
   "cell_type": "code",
   "execution_count": 1,
   "metadata": {},
   "outputs": [],
   "source": [
    "import requests\n",
    "import pandas as pd\n",
    "import matplotlib.pyplot as plt"
   ]
  },
  {
   "cell_type": "code",
   "execution_count": 2,
   "metadata": {},
   "outputs": [],
   "source": [
    "%matplotlib inline"
   ]
  },
  {
   "cell_type": "code",
   "execution_count": 3,
   "metadata": {},
   "outputs": [],
   "source": [
    "def read_party_df(url):\n",
    "    r = requests.get(url)\n",
    "    dfs = pd.read_html(r.text, flavor='bs4', skiprows=2)\n",
    "    column_names = {1: 'kraj', 2: 'por_cislo', 3: 'jmeno', 4: 'vek',\n",
    "                    5: 'navrhujici_strana', 6: 'politicka_prislusnost'}\n",
    "    # first two rows are columns names\n",
    "    # drop uninmportant columns\n",
    "    # correct columns names\n",
    "    return dfs[0].drop([0, 1])\\\n",
    "                 .drop([0, 7, 8], axis=1)\\\n",
    "                 .rename(index=lambda x: x - 2, columns=column_names)"
   ]
  },
  {
   "cell_type": "code",
   "execution_count": 4,
   "metadata": {},
   "outputs": [],
   "source": [
    "urls = {\n",
    "    'ano': 'https://volby.cz/pls/ps2017/ps111?xjazyk=CZ&xkraj=0&xstrana=21&xv=1&xt=1',\n",
    "    'dsss': 'https://volby.cz/pls/ps2017/ps111?xjazyk=CZ&xkraj=0&xstrana=28&xv=1&xt=1',\n",
    "    'kscm': 'https://volby.cz/pls/ps2017/ps111?xjazyk=CZ&xkraj=0&xstrana=8&xv=1&xt=1',\n",
    "    'pirati': 'https://volby.cz/pls/ps2017/ps111?xjazyk=CZ&xkraj=0&xstrana=15&xv=1&xt=1',\n",
    "}\n",
    "\n",
    "dfs = {party: read_party_df(url) for party, url in urls.items()}"
   ]
  },
  {
   "cell_type": "markdown",
   "metadata": {},
   "source": [
    "## 1. Use Data Visualisation to Depict the Age Distribution of Candidates\n",
    "    \n",
    "- How many candidates are young/old/middle aged?\n",
    "- Which party has older candidates compared to the others?"
   ]
  },
  {
   "cell_type": "code",
   "execution_count": 5,
   "metadata": {},
   "outputs": [
    {
     "data": {
      "image/png": "[encoded data removed]",
      "text/plain": [
       "<matplotlib.figure.Figure at 0x7fd067fb1ba8>"
      ]
     },
     "metadata": {},
     "output_type": "display_data"
    }
   ],
   "source": [
    "fig, axes = plt.subplots(nrows=2, ncols=2, figsize=(8, 8))\n",
    "for (party, df), ax in zip(dfs.items(), axes.ravel()):\n",
    "    df['vek'].plot.hist(ax=ax)\n",
    "    ax.set_title(party)\n",
    "    ax.set_xlabel('Age')\n",
    "fig.tight_layout()"
   ]
  },
  {
   "cell_type": "markdown",
   "metadata": {},
   "source": [
    "## 2. Use the Titles of Candidates to Get the Idea on Education Levels\n",
    "\n",
    "\n",
    "Try to distinguish at least three education levels corresponding to:\n",
    "\n",
    "- no title,\n",
    "- Bc.,\n",
    "- Ing., Mgr. and analogous and higher.\n",
    "    \n",
    "E.g. *Barteček Ivo prof. PhDr. CSc.* has three titles 'prof.', 'PhDr.' and 'CSc.'.\n",
    "\n",
    "Your visualisation should answer at least these questions:\n",
    "\n",
    "- How frequent are the education levels of candidates for each of the chousen parties?\n",
    "- How *'educated'* is each party compared to the others?\n",
    "- How frequent is each education level within all candidates?"
   ]
  }
 ],
 "metadata": {
  "kernelspec": {
   "display_name": "Python 3",
   "language": "python",
   "name": "python3"
  },
  "language_info": {
   "codemirror_mode": {
    "name": "ipython",
    "version": 3
   },
   "file_extension": ".py",
   "mimetype": "text/x-python",
   "name": "python",
   "nbconvert_exporter": "python",
   "pygments_lexer": "ipython3",
   "version": "3.6.1"
  }
 },
 "nbformat": 4,
 "nbformat_minor": 2
}
