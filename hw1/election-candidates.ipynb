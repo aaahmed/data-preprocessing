{
 "cells": [
  {
   "cell_type": "markdown",
   "metadata": {},
   "source": [
    "# Age and Education Level of 2017 Czech Parliament Election Candidates\n",
    "\n",
    "Choose at least three parties that are going to participate in the election.\n",
    "Scrap the web pages https://volby.cz to get list of all candidates for the chosen parties\n",
    "(good place to start: https://volby.cz/pls/ps2017/ps11?xjazyk=CZ&xv=1&xt=1)."
   ]
  },
  {
   "cell_type": "code",
   "execution_count": 1,
   "metadata": {},
   "outputs": [],
   "source": [
    "from collections import Counter\n",
    "import re\n",
    "import requests\n",
    "import pandas as pd\n",
    "import matplotlib.pyplot as plt"
   ]
  },
  {
   "cell_type": "code",
   "execution_count": 2,
   "metadata": {},
   "outputs": [],
   "source": [
    "%matplotlib inline"
   ]
  },
  {
   "cell_type": "code",
   "execution_count": 3,
   "metadata": {},
   "outputs": [],
   "source": [
    "def read_party_df(url):\n",
    "    r = requests.get(url)\n",
    "    dfs = pd.read_html(r.text, flavor='bs4', skiprows=2)\n",
    "    column_names = {1: 'Kraj', 2: 'Number', 3: 'Name', 4: 'Age',\n",
    "                    5: 'Party', 6: 'Political affiliation'}\n",
    "    # first two rows are columns names\n",
    "    # drop uninmportant columns\n",
    "    # correct columns names\n",
    "    return dfs[0].drop([0, 1])\\\n",
    "                 .drop([0, 7, 8], axis=1)\\\n",
    "                 .rename(index=lambda x: x - 2, columns=column_names)"
   ]
  },
  {
   "cell_type": "code",
   "execution_count": 4,
   "metadata": {},
   "outputs": [],
   "source": [
    "urls = {\n",
    "    'ANO': 'https://volby.cz/pls/ps2017/ps111?xjazyk=CZ&xkraj=0&xstrana=21&xv=1&xt=1',\n",
    "    'DSSS': 'https://volby.cz/pls/ps2017/ps111?xjazyk=CZ&xkraj=0&xstrana=28&xv=1&xt=1',\n",
    "    'KSČM': 'https://volby.cz/pls/ps2017/ps111?xjazyk=CZ&xkraj=0&xstrana=8&xv=1&xt=1',\n",
    "    'Piráti': 'https://volby.cz/pls/ps2017/ps111?xjazyk=CZ&xkraj=0&xstrana=15&xv=1&xt=1',\n",
    "}\n",
    "\n",
    "df = pd.concat({party: read_party_df(url) for party, url in urls.items()})"
   ]
  },
  {
   "cell_type": "code",
   "execution_count": 5,
   "metadata": {},
   "outputs": [
    {
     "name": "stdout",
     "output_type": "stream",
     "text": [
      "<class 'pandas.core.frame.DataFrame'>\n",
      "MultiIndex: 1359 entries, (ANO, 0) to (Piráti, 335)\n",
      "Data columns (total 6 columns):\n",
      "Kraj                     1359 non-null object\n",
      "Number                   1359 non-null int64\n",
      "Name                     1359 non-null object\n",
      "Age                      1359 non-null int64\n",
      "Party                    1359 non-null object\n",
      "Political affiliation    1359 non-null object\n",
      "dtypes: int64(2), object(4)\n",
      "memory usage: 70.4+ KB\n"
     ]
    }
   ],
   "source": [
    "df.info()"
   ]
  },
  {
   "cell_type": "code",
   "execution_count": 6,
   "metadata": {},
   "outputs": [
    {
     "data": {
      "text/html": [
       "<div>\n",
       "<style>\n",
       "    .dataframe thead tr:only-child th {\n",
       "        text-align: right;\n",
       "    }\n",
       "\n",
       "    .dataframe thead th {\n",
       "        text-align: left;\n",
       "    }\n",
       "\n",
       "    .dataframe tbody tr th {\n",
       "        vertical-align: top;\n",
       "    }\n",
       "</style>\n",
       "<table border=\"1\" class=\"dataframe\">\n",
       "  <thead>\n",
       "    <tr style=\"text-align: right;\">\n",
       "      <th></th>\n",
       "      <th></th>\n",
       "      <th>Kraj</th>\n",
       "      <th>Number</th>\n",
       "      <th>Name</th>\n",
       "      <th>Age</th>\n",
       "      <th>Party</th>\n",
       "      <th>Political affiliation</th>\n",
       "    </tr>\n",
       "  </thead>\n",
       "  <tbody>\n",
       "    <tr>\n",
       "      <th rowspan=\"5\" valign=\"top\">ANO</th>\n",
       "      <th>0</th>\n",
       "      <td>Pardubický</td>\n",
       "      <td>14</td>\n",
       "      <td>Akerman Miloš</td>\n",
       "      <td>61</td>\n",
       "      <td>ANO</td>\n",
       "      <td>ANO</td>\n",
       "    </tr>\n",
       "    <tr>\n",
       "      <th>1</th>\n",
       "      <td>Ústecký</td>\n",
       "      <td>22</td>\n",
       "      <td>Andrš Radek Ing.</td>\n",
       "      <td>48</td>\n",
       "      <td>ANO</td>\n",
       "      <td>ANO</td>\n",
       "    </tr>\n",
       "    <tr>\n",
       "      <th>2</th>\n",
       "      <td>Karlovarský</td>\n",
       "      <td>10</td>\n",
       "      <td>Arnoldová Lenka Mgr. et Mgr.</td>\n",
       "      <td>52</td>\n",
       "      <td>ANO</td>\n",
       "      <td>ANO</td>\n",
       "    </tr>\n",
       "    <tr>\n",
       "      <th>3</th>\n",
       "      <td>Jihomoravský</td>\n",
       "      <td>24</td>\n",
       "      <td>Artimová Zuzana Olga Ing.</td>\n",
       "      <td>53</td>\n",
       "      <td>ANO</td>\n",
       "      <td>ANO</td>\n",
       "    </tr>\n",
       "    <tr>\n",
       "      <th>4</th>\n",
       "      <td>Moravskoslezský</td>\n",
       "      <td>27</td>\n",
       "      <td>Babinec Radim Mgr.</td>\n",
       "      <td>43</td>\n",
       "      <td>ANO</td>\n",
       "      <td>ANO</td>\n",
       "    </tr>\n",
       "  </tbody>\n",
       "</table>\n",
       "</div>"
      ],
      "text/plain": [
       "                  Kraj  Number                          Name  Age Party  \\\n",
       "ANO 0       Pardubický      14                 Akerman Miloš   61   ANO   \n",
       "    1          Ústecký      22              Andrš Radek Ing.   48   ANO   \n",
       "    2      Karlovarský      10  Arnoldová Lenka Mgr. et Mgr.   52   ANO   \n",
       "    3     Jihomoravský      24     Artimová Zuzana Olga Ing.   53   ANO   \n",
       "    4  Moravskoslezský      27            Babinec Radim Mgr.   43   ANO   \n",
       "\n",
       "      Political affiliation  \n",
       "ANO 0                   ANO  \n",
       "    1                   ANO  \n",
       "    2                   ANO  \n",
       "    3                   ANO  \n",
       "    4                   ANO  "
      ]
     },
     "execution_count": 6,
     "metadata": {},
     "output_type": "execute_result"
    }
   ],
   "source": [
    "df.head()"
   ]
  },
  {
   "cell_type": "markdown",
   "metadata": {},
   "source": [
    "## 1. Use Data Visualisation to Depict the Age Distribution of Candidates\n",
    "    \n",
    "- How many candidates are young/old/middle aged?\n",
    "- Which party has older candidates compared to the others?"
   ]
  },
  {
   "cell_type": "code",
   "execution_count": 7,
   "metadata": {},
   "outputs": [
    {
     "data": {
      "text/html": [
       "<div>\n",
       "<style>\n",
       "    .dataframe thead tr:only-child th {\n",
       "        text-align: right;\n",
       "    }\n",
       "\n",
       "    .dataframe thead th {\n",
       "        text-align: left;\n",
       "    }\n",
       "\n",
       "    .dataframe tbody tr th {\n",
       "        vertical-align: top;\n",
       "    }\n",
       "</style>\n",
       "<table border=\"1\" class=\"dataframe\">\n",
       "  <thead>\n",
       "    <tr style=\"text-align: right;\">\n",
       "      <th></th>\n",
       "      <th>count</th>\n",
       "      <th>mean</th>\n",
       "      <th>std</th>\n",
       "      <th>min</th>\n",
       "      <th>25%</th>\n",
       "      <th>50%</th>\n",
       "      <th>75%</th>\n",
       "      <th>max</th>\n",
       "    </tr>\n",
       "  </thead>\n",
       "  <tbody>\n",
       "    <tr>\n",
       "      <th>ANO</th>\n",
       "      <td>341.0</td>\n",
       "      <td>48.580645</td>\n",
       "      <td>10.252264</td>\n",
       "      <td>22.0</td>\n",
       "      <td>42.0</td>\n",
       "      <td>48.0</td>\n",
       "      <td>56.0</td>\n",
       "      <td>72.0</td>\n",
       "    </tr>\n",
       "    <tr>\n",
       "      <th>DSSS</th>\n",
       "      <td>341.0</td>\n",
       "      <td>44.422287</td>\n",
       "      <td>12.944587</td>\n",
       "      <td>21.0</td>\n",
       "      <td>34.0</td>\n",
       "      <td>44.0</td>\n",
       "      <td>53.0</td>\n",
       "      <td>74.0</td>\n",
       "    </tr>\n",
       "    <tr>\n",
       "      <th>KSČM</th>\n",
       "      <td>341.0</td>\n",
       "      <td>49.841642</td>\n",
       "      <td>12.639044</td>\n",
       "      <td>21.0</td>\n",
       "      <td>41.0</td>\n",
       "      <td>51.0</td>\n",
       "      <td>61.0</td>\n",
       "      <td>74.0</td>\n",
       "    </tr>\n",
       "    <tr>\n",
       "      <th>Piráti</th>\n",
       "      <td>336.0</td>\n",
       "      <td>37.157738</td>\n",
       "      <td>10.743778</td>\n",
       "      <td>21.0</td>\n",
       "      <td>30.0</td>\n",
       "      <td>34.0</td>\n",
       "      <td>43.0</td>\n",
       "      <td>71.0</td>\n",
       "    </tr>\n",
       "  </tbody>\n",
       "</table>\n",
       "</div>"
      ],
      "text/plain": [
       "        count       mean        std   min   25%   50%   75%   max\n",
       "ANO     341.0  48.580645  10.252264  22.0  42.0  48.0  56.0  72.0\n",
       "DSSS    341.0  44.422287  12.944587  21.0  34.0  44.0  53.0  74.0\n",
       "KSČM    341.0  49.841642  12.639044  21.0  41.0  51.0  61.0  74.0\n",
       "Piráti  336.0  37.157738  10.743778  21.0  30.0  34.0  43.0  71.0"
      ]
     },
     "execution_count": 7,
     "metadata": {},
     "output_type": "execute_result"
    }
   ],
   "source": [
    "df['Age'].groupby(level=0).describe()"
   ]
  },
  {
   "cell_type": "code",
   "execution_count": 8,
   "metadata": {},
   "outputs": [
    {
     "data": {
      "image/png": "[encoded data removed]",
      "text/plain": [
       "<matplotlib.figure.Figure at 0x7f60f9372d68>"
      ]
     },
     "metadata": {},
     "output_type": "display_data"
    }
   ],
   "source": [
    "axes = df.hist(column='Age', by='Party', sharex=True)\n",
    "for ax in axes.ravel():\n",
    "    ax.set_xlabel('Age')\n",
    "    ax.set_ylabel('Frequency')"
   ]
  },
  {
   "cell_type": "code",
   "execution_count": 9,
   "metadata": {
    "scrolled": true
   },
   "outputs": [
    {
     "data": {
      "text/plain": [
       "<matplotlib.text.Text at 0x7f60f86bf7b8>"
      ]
     },
     "execution_count": 9,
     "metadata": {},
     "output_type": "execute_result"
    },
    {
     "data": {
      "image/png": "[encoded data removed]",
      "text/plain": [
       "<matplotlib.figure.Figure at 0x7f60f7d20908>"
      ]
     },
     "metadata": {},
     "output_type": "display_data"
    }
   ],
   "source": [
    "ax = df.boxplot(column='Age', by='Party')\n",
    "ax.set_title('')\n",
    "ax.set_ylabel('Age')"
   ]
  },
  {
   "cell_type": "markdown",
   "metadata": {},
   "source": [
    "## 2. Use the Titles of Candidates to Get the Idea on Education Levels\n",
    "\n",
    "\n",
    "Try to distinguish at least three education levels corresponding to:\n",
    "\n",
    "- no title,\n",
    "- Bc.,\n",
    "- Ing., Mgr. and analogous and higher.\n",
    "    \n",
    "E.g. *Barteček Ivo prof. PhDr. CSc.* has three titles 'prof.', 'PhDr.' and 'CSc.'.\n",
    "\n",
    "Your visualisation should answer at least these questions:\n",
    "\n",
    "- How frequent are the education levels of candidates for each of the choosen parties?\n",
    "- How *'educated'* is each party compared to the others?\n",
    "- How frequent is each education level within all candidates?"
   ]
  },
  {
   "cell_type": "code",
   "execution_count": 10,
   "metadata": {},
   "outputs": [
    {
     "data": {
      "text/plain": [
       "ANO  0                      [Akerman, Miloš]\n",
       "     1                  [Andrš, Radek, Ing.]\n",
       "     2    [Arnoldová, Lenka, Mgr., et, Mgr.]\n",
       "     3        [Artimová, Zuzana, Olga, Ing.]\n",
       "     4                [Babinec, Radim, Mgr.]\n",
       "Name: Name, dtype: object"
      ]
     },
     "execution_count": 10,
     "metadata": {},
     "output_type": "execute_result"
    }
   ],
   "source": [
    "splited_names = df['Name'].apply(lambda x: re.split(' |, +', x))\n",
    "splited_names.head()"
   ]
  },
  {
   "cell_type": "code",
   "execution_count": 11,
   "metadata": {},
   "outputs": [
    {
     "data": {
      "text/plain": [
       "({'B.A.', 'BA', 'BBA', 'BSc.', 'Bc.', 'LL.B.'},\n",
       " {'CSc.',\n",
       "  'DBA',\n",
       "  'Dr.',\n",
       "  'Ing.',\n",
       "  'JUDr.',\n",
       "  'LL.M.',\n",
       "  'MBA',\n",
       "  'MPA',\n",
       "  'MUDr.',\n",
       "  'MVDr.',\n",
       "  'MgA.',\n",
       "  'Mgr.',\n",
       "  'PaedDr.',\n",
       "  'Ph.D.',\n",
       "  'PhDr.',\n",
       "  'RNDr.',\n",
       "  'RSDr.',\n",
       "  'arch.',\n",
       "  'doc.',\n",
       "  'prof.'})"
      ]
     },
     "execution_count": 11,
     "metadata": {},
     "output_type": "execute_result"
    }
   ],
   "source": [
    "# split each name to list by whitespace\n",
    "# flatten the list\n",
    "# convert the list to set\n",
    "counter = Counter([item for sublist in splited_names.tolist() for item in sublist])\n",
    "\n",
    "# assume that title ends with '.' (e.g. Bc., Ing.) or\n",
    "# is uppercase (e.g. MBA, BA)\n",
    "degrees = {x for x in counter if x.endswith('.') or x.isupper()}\n",
    "# let's make some assuptions\n",
    "# do not care about 'ml.'\n",
    "# if somebody is 'dr. h. c.' he or she either buy it or is master anyway\n",
    "# 'DiS.' is considered as no degree, sorry\n",
    "degrees -= {'ml.', 'Dr.h.c.', 'dr.', 'h.', 'c.', 'DiS.'}\n",
    "# bachelor's degrees in this case start with 'B' or it's 'LL.B.'\n",
    "bachelors = {degree for degree in degrees if degree.startswith('B')} | {'LL.B.'}\n",
    "masters = degrees - bachelors\n",
    "bachelors, masters"
   ]
  },
  {
   "cell_type": "code",
   "execution_count": 12,
   "metadata": {
    "scrolled": true
   },
   "outputs": [
    {
     "data": {
      "text/html": [
       "<div>\n",
       "<style>\n",
       "    .dataframe thead tr:only-child th {\n",
       "        text-align: right;\n",
       "    }\n",
       "\n",
       "    .dataframe thead th {\n",
       "        text-align: left;\n",
       "    }\n",
       "\n",
       "    .dataframe tbody tr th {\n",
       "        vertical-align: top;\n",
       "    }\n",
       "</style>\n",
       "<table border=\"1\" class=\"dataframe\">\n",
       "  <thead>\n",
       "    <tr style=\"text-align: right;\">\n",
       "      <th></th>\n",
       "      <th></th>\n",
       "      <th>Kraj</th>\n",
       "      <th>Number</th>\n",
       "      <th>Name</th>\n",
       "      <th>Age</th>\n",
       "      <th>Party</th>\n",
       "      <th>Political affiliation</th>\n",
       "      <th>Education</th>\n",
       "    </tr>\n",
       "  </thead>\n",
       "  <tbody>\n",
       "    <tr>\n",
       "      <th rowspan=\"5\" valign=\"top\">Piráti</th>\n",
       "      <th>331</th>\n",
       "      <td>Vysočina</td>\n",
       "      <td>8</td>\n",
       "      <td>Závrská Kateřina</td>\n",
       "      <td>33</td>\n",
       "      <td>Piráti</td>\n",
       "      <td>Piráti</td>\n",
       "      <td>No title</td>\n",
       "    </tr>\n",
       "    <tr>\n",
       "      <th>332</th>\n",
       "      <td>Olomoucký</td>\n",
       "      <td>10</td>\n",
       "      <td>Zmeškal Miloš</td>\n",
       "      <td>30</td>\n",
       "      <td>Piráti</td>\n",
       "      <td>Piráti</td>\n",
       "      <td>No title</td>\n",
       "    </tr>\n",
       "    <tr>\n",
       "      <th>333</th>\n",
       "      <td>Středočeský</td>\n",
       "      <td>6</td>\n",
       "      <td>Zmuda Tomáš Ing.</td>\n",
       "      <td>29</td>\n",
       "      <td>Piráti</td>\n",
       "      <td>Piráti</td>\n",
       "      <td>Master</td>\n",
       "    </tr>\n",
       "    <tr>\n",
       "      <th>334</th>\n",
       "      <td>Moravskoslezský</td>\n",
       "      <td>26</td>\n",
       "      <td>Žebrok Marcel Bc.</td>\n",
       "      <td>32</td>\n",
       "      <td>Piráti</td>\n",
       "      <td>Piráti</td>\n",
       "      <td>Bachelor</td>\n",
       "    </tr>\n",
       "    <tr>\n",
       "      <th>335</th>\n",
       "      <td>Moravskoslezský</td>\n",
       "      <td>35</td>\n",
       "      <td>Žídek Arnošt Mgr. Ph.D.</td>\n",
       "      <td>41</td>\n",
       "      <td>Piráti</td>\n",
       "      <td>BEZPP</td>\n",
       "      <td>Master</td>\n",
       "    </tr>\n",
       "  </tbody>\n",
       "</table>\n",
       "</div>"
      ],
      "text/plain": [
       "                       Kraj  Number                     Name  Age   Party  \\\n",
       "Piráti 331         Vysočina       8         Závrská Kateřina   33  Piráti   \n",
       "       332        Olomoucký      10            Zmeškal Miloš   30  Piráti   \n",
       "       333      Středočeský       6         Zmuda Tomáš Ing.   29  Piráti   \n",
       "       334  Moravskoslezský      26        Žebrok Marcel Bc.   32  Piráti   \n",
       "       335  Moravskoslezský      35  Žídek Arnošt Mgr. Ph.D.   41  Piráti   \n",
       "\n",
       "           Political affiliation Education  \n",
       "Piráti 331                Piráti  No title  \n",
       "       332                Piráti  No title  \n",
       "       333                Piráti    Master  \n",
       "       334                Piráti  Bachelor  \n",
       "       335                 BEZPP    Master  "
      ]
     },
     "execution_count": 12,
     "metadata": {},
     "output_type": "execute_result"
    }
   ],
   "source": [
    "def classify_titles(xs):\n",
    "    # TODO try sets intersection\n",
    "    xs = set(xs)\n",
    "    if not masters.isdisjoint(xs):\n",
    "        return 'Master'\n",
    "    if not bachelors.isdisjoint(xs):\n",
    "        return 'Bachelor'\n",
    "    return 'No title'\n",
    "\n",
    "df['Education'] = splited_names.apply(classify_titles)\n",
    "df.tail()"
   ]
  },
  {
   "cell_type": "code",
   "execution_count": 13,
   "metadata": {},
   "outputs": [],
   "source": [
    "edu_counts = df['Education'].groupby(level=0)\\\n",
    "                            .value_counts()\\\n",
    "                            .unstack(level=1)\n",
    "edu_percent = edu_counts.div(edu_counts.sum(axis=1), axis=0)\\\n",
    "                        .multiply(100)[['No title', 'Bachelor', 'Master']]"
   ]
  },
  {
   "cell_type": "code",
   "execution_count": 14,
   "metadata": {},
   "outputs": [
    {
     "data": {
      "text/plain": [
       "<matplotlib.text.Text at 0x7f60f84af470>"
      ]
     },
     "execution_count": 14,
     "metadata": {},
     "output_type": "execute_result"
    },
    {
     "data": {
      "image/png": "[encoded data removed]",
      "text/plain": [
       "<matplotlib.figure.Figure at 0x7f60f8520cf8>"
      ]
     },
     "metadata": {},
     "output_type": "display_data"
    }
   ],
   "source": [
    "fig, (ax1, ax2) = plt.subplots(nrows=1, ncols=2)\n",
    "edu_percent.plot.bar(ax=ax1, grid=True)\n",
    "edu_percent.T.plot.bar(ax=ax2, grid=True)\n",
    "ax1.set_xlabel('Party')\n",
    "ax1.set_ylabel('Percentage in Party')"
   ]
  },
  {
   "cell_type": "code",
   "execution_count": 15,
   "metadata": {},
   "outputs": [
    {
     "data": {
      "text/plain": [
       "<matplotlib.text.Text at 0x7f60f7df9550>"
      ]
     },
     "execution_count": 15,
     "metadata": {},
     "output_type": "execute_result"
    },
    {
     "data": {
      "image/png": "[encoded data removed]",
      "text/plain": [
       "<matplotlib.figure.Figure at 0x7f60f8520c50>"
      ]
     },
     "metadata": {},
     "output_type": "display_data"
    }
   ],
   "source": [
    "axes = df['Education'].value_counts()[['No title', 'Bachelor', 'Master']].plot(kind='bar', grid=True)\n",
    "axes.set_title('Education Level of All Candidates')\n",
    "axes.set_ylabel('Count')"
   ]
  }
 ],
 "metadata": {
  "kernelspec": {
   "display_name": "Python 3",
   "language": "python",
   "name": "python3"
  },
  "language_info": {
   "codemirror_mode": {
    "name": "ipython",
    "version": 3
   },
   "file_extension": ".py",
   "mimetype": "text/x-python",
   "name": "python",
   "nbconvert_exporter": "python",
   "pygments_lexer": "ipython3",
   "version": "3.6.1"
  }
 },
 "nbformat": 4,
 "nbformat_minor": 2
}
