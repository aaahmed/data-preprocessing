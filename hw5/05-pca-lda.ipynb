{
 "cells": [
  {
   "cell_type": "markdown",
   "metadata": {},
   "source": [
    "# pca and lda\n",
    "\n",
    "1. for the attached clean data try to use linear regression applied on features given by PCA\n",
    "1. select as less as possible features so that the results are comparably good to RMSLE around 0.12\n",
    "1. experiment with the feature selection\n",
    "    - has removing indicator or discrete features a positive influence?\n",
    "    - is the first principal components always the best choice?"
   ]
  },
  {
   "cell_type": "code",
   "execution_count": 1,
   "metadata": {},
   "outputs": [],
   "source": [
    "import pandas\n",
    "import numpy\n",
    "import seaborn\n",
    "from matplotlib import pyplot\n",
    "from sklearn.model_selection import train_test_split\n",
    "from sklearn.linear_model import LinearRegression\n",
    "from sklearn.metrics import mean_squared_error\n",
    "from sklearn.decomposition import PCA\n",
    "from sklearn.preprocessing import StandardScaler\n",
    "from sklearn.feature_selection import VarianceThreshold, SelectKBest, f_regression, mutual_info_regression, RFE"
   ]
  },
  {
   "cell_type": "code",
   "execution_count": 2,
   "metadata": {},
   "outputs": [],
   "source": [
    "%matplotlib inline"
   ]
  },
  {
   "cell_type": "code",
   "execution_count": 3,
   "metadata": {},
   "outputs": [
    {
     "name": "stdout",
     "output_type": "stream",
     "text": [
      "<class 'pandas.core.frame.DataFrame'>\n",
      "Int64Index: 1460 entries, 1 to 1460\n",
      "Columns: 326 entries, MSSubClass to SaleCondition_Partial\n",
      "dtypes: float64(32), int64(294)\n",
      "memory usage: 3.6 MB\n"
     ]
    },
    {
     "data": {
      "text/html": [
       "<div>\n",
       "<style>\n",
       "    .dataframe thead tr:only-child th {\n",
       "        text-align: right;\n",
       "    }\n",
       "\n",
       "    .dataframe thead th {\n",
       "        text-align: left;\n",
       "    }\n",
       "\n",
       "    .dataframe tbody tr th {\n",
       "        vertical-align: top;\n",
       "    }\n",
       "</style>\n",
       "<table border=\"1\" class=\"dataframe\">\n",
       "  <thead>\n",
       "    <tr style=\"text-align: right;\">\n",
       "      <th></th>\n",
       "      <th>MSSubClass</th>\n",
       "      <th>LotFrontage</th>\n",
       "      <th>LotArea</th>\n",
       "      <th>OverallQual</th>\n",
       "      <th>OverallCond</th>\n",
       "      <th>YearBuilt</th>\n",
       "      <th>YearRemodAdd</th>\n",
       "      <th>MasVnrArea</th>\n",
       "      <th>BsmtFinSF1</th>\n",
       "      <th>BsmtFinSF2</th>\n",
       "      <th>...</th>\n",
       "      <th>SaleType_ConLw</th>\n",
       "      <th>SaleType_New</th>\n",
       "      <th>SaleType_Oth</th>\n",
       "      <th>SaleType_WD</th>\n",
       "      <th>SaleCondition_Abnorml</th>\n",
       "      <th>SaleCondition_AdjLand</th>\n",
       "      <th>SaleCondition_Alloca</th>\n",
       "      <th>SaleCondition_Family</th>\n",
       "      <th>SaleCondition_Normal</th>\n",
       "      <th>SaleCondition_Partial</th>\n",
       "    </tr>\n",
       "    <tr>\n",
       "      <th>Id</th>\n",
       "      <th></th>\n",
       "      <th></th>\n",
       "      <th></th>\n",
       "      <th></th>\n",
       "      <th></th>\n",
       "      <th></th>\n",
       "      <th></th>\n",
       "      <th></th>\n",
       "      <th></th>\n",
       "      <th></th>\n",
       "      <th></th>\n",
       "      <th></th>\n",
       "      <th></th>\n",
       "      <th></th>\n",
       "      <th></th>\n",
       "      <th></th>\n",
       "      <th></th>\n",
       "      <th></th>\n",
       "      <th></th>\n",
       "      <th></th>\n",
       "      <th></th>\n",
       "    </tr>\n",
       "  </thead>\n",
       "  <tbody>\n",
       "    <tr>\n",
       "      <th>1</th>\n",
       "      <td>60</td>\n",
       "      <td>65.0</td>\n",
       "      <td>8450</td>\n",
       "      <td>7</td>\n",
       "      <td>5</td>\n",
       "      <td>2003</td>\n",
       "      <td>2003</td>\n",
       "      <td>196.0</td>\n",
       "      <td>706</td>\n",
       "      <td>0</td>\n",
       "      <td>...</td>\n",
       "      <td>0</td>\n",
       "      <td>0</td>\n",
       "      <td>0</td>\n",
       "      <td>1</td>\n",
       "      <td>0</td>\n",
       "      <td>0</td>\n",
       "      <td>0</td>\n",
       "      <td>0</td>\n",
       "      <td>1</td>\n",
       "      <td>0</td>\n",
       "    </tr>\n",
       "    <tr>\n",
       "      <th>2</th>\n",
       "      <td>20</td>\n",
       "      <td>80.0</td>\n",
       "      <td>9600</td>\n",
       "      <td>6</td>\n",
       "      <td>8</td>\n",
       "      <td>1976</td>\n",
       "      <td>1976</td>\n",
       "      <td>0.0</td>\n",
       "      <td>978</td>\n",
       "      <td>0</td>\n",
       "      <td>...</td>\n",
       "      <td>0</td>\n",
       "      <td>0</td>\n",
       "      <td>0</td>\n",
       "      <td>1</td>\n",
       "      <td>0</td>\n",
       "      <td>0</td>\n",
       "      <td>0</td>\n",
       "      <td>0</td>\n",
       "      <td>1</td>\n",
       "      <td>0</td>\n",
       "    </tr>\n",
       "    <tr>\n",
       "      <th>3</th>\n",
       "      <td>60</td>\n",
       "      <td>68.0</td>\n",
       "      <td>11250</td>\n",
       "      <td>7</td>\n",
       "      <td>5</td>\n",
       "      <td>2001</td>\n",
       "      <td>2002</td>\n",
       "      <td>162.0</td>\n",
       "      <td>486</td>\n",
       "      <td>0</td>\n",
       "      <td>...</td>\n",
       "      <td>0</td>\n",
       "      <td>0</td>\n",
       "      <td>0</td>\n",
       "      <td>1</td>\n",
       "      <td>0</td>\n",
       "      <td>0</td>\n",
       "      <td>0</td>\n",
       "      <td>0</td>\n",
       "      <td>1</td>\n",
       "      <td>0</td>\n",
       "    </tr>\n",
       "    <tr>\n",
       "      <th>4</th>\n",
       "      <td>70</td>\n",
       "      <td>60.0</td>\n",
       "      <td>9550</td>\n",
       "      <td>7</td>\n",
       "      <td>5</td>\n",
       "      <td>1915</td>\n",
       "      <td>1970</td>\n",
       "      <td>0.0</td>\n",
       "      <td>216</td>\n",
       "      <td>0</td>\n",
       "      <td>...</td>\n",
       "      <td>0</td>\n",
       "      <td>0</td>\n",
       "      <td>0</td>\n",
       "      <td>1</td>\n",
       "      <td>1</td>\n",
       "      <td>0</td>\n",
       "      <td>0</td>\n",
       "      <td>0</td>\n",
       "      <td>0</td>\n",
       "      <td>0</td>\n",
       "    </tr>\n",
       "    <tr>\n",
       "      <th>5</th>\n",
       "      <td>60</td>\n",
       "      <td>84.0</td>\n",
       "      <td>14260</td>\n",
       "      <td>8</td>\n",
       "      <td>5</td>\n",
       "      <td>2000</td>\n",
       "      <td>2000</td>\n",
       "      <td>350.0</td>\n",
       "      <td>655</td>\n",
       "      <td>0</td>\n",
       "      <td>...</td>\n",
       "      <td>0</td>\n",
       "      <td>0</td>\n",
       "      <td>0</td>\n",
       "      <td>1</td>\n",
       "      <td>0</td>\n",
       "      <td>0</td>\n",
       "      <td>0</td>\n",
       "      <td>0</td>\n",
       "      <td>1</td>\n",
       "      <td>0</td>\n",
       "    </tr>\n",
       "  </tbody>\n",
       "</table>\n",
       "<p>5 rows × 326 columns</p>\n",
       "</div>"
      ],
      "text/plain": [
       "    MSSubClass  LotFrontage  LotArea  OverallQual  OverallCond  YearBuilt  \\\n",
       "Id                                                                          \n",
       "1           60         65.0     8450            7            5       2003   \n",
       "2           20         80.0     9600            6            8       1976   \n",
       "3           60         68.0    11250            7            5       2001   \n",
       "4           70         60.0     9550            7            5       1915   \n",
       "5           60         84.0    14260            8            5       2000   \n",
       "\n",
       "    YearRemodAdd  MasVnrArea  BsmtFinSF1  BsmtFinSF2          ...            \\\n",
       "Id                                                            ...             \n",
       "1           2003       196.0         706           0          ...             \n",
       "2           1976         0.0         978           0          ...             \n",
       "3           2002       162.0         486           0          ...             \n",
       "4           1970         0.0         216           0          ...             \n",
       "5           2000       350.0         655           0          ...             \n",
       "\n",
       "    SaleType_ConLw  SaleType_New  SaleType_Oth  SaleType_WD  \\\n",
       "Id                                                            \n",
       "1                0             0             0            1   \n",
       "2                0             0             0            1   \n",
       "3                0             0             0            1   \n",
       "4                0             0             0            1   \n",
       "5                0             0             0            1   \n",
       "\n",
       "    SaleCondition_Abnorml  SaleCondition_AdjLand  SaleCondition_Alloca  \\\n",
       "Id                                                                       \n",
       "1                       0                      0                     0   \n",
       "2                       0                      0                     0   \n",
       "3                       0                      0                     0   \n",
       "4                       1                      0                     0   \n",
       "5                       0                      0                     0   \n",
       "\n",
       "    SaleCondition_Family  SaleCondition_Normal  SaleCondition_Partial  \n",
       "Id                                                                     \n",
       "1                      0                     1                      0  \n",
       "2                      0                     1                      0  \n",
       "3                      0                     1                      0  \n",
       "4                      0                     0                      0  \n",
       "5                      0                     1                      0  \n",
       "\n",
       "[5 rows x 326 columns]"
      ]
     },
     "execution_count": 3,
     "metadata": {},
     "output_type": "execute_result"
    }
   ],
   "source": [
    "data = pandas.read_csv('data/data.csv', index_col='Id')\n",
    "data = data.drop(['Unnamed: 0'], axis=1)\n",
    "data.info()\n",
    "data.head()"
   ]
  },
  {
   "cell_type": "code",
   "execution_count": 4,
   "metadata": {},
   "outputs": [],
   "source": [
    "df_tr, df_te = train_test_split(data, test_size=0.25, random_state=458)\n",
    "X = df_tr.drop(['SalePrice'], axis=1)\n",
    "X_te = df_te.drop(['SalePrice'], axis=1)\n",
    "y = df_tr['SalePrice']\n",
    "y_te = df_te['SalePrice']"
   ]
  },
  {
   "cell_type": "code",
   "execution_count": 5,
   "metadata": {
    "scrolled": false
   },
   "outputs": [
    {
     "data": {
      "text/plain": [
       "<matplotlib.axes._subplots.AxesSubplot at 0x7fdfe04e5550>"
      ]
     },
     "execution_count": 5,
     "metadata": {},
     "output_type": "execute_result"
    },
    {
     "data": {
      "image/png": "[encoded data removed]",
      "text/plain": [
       "<matplotlib.figure.Figure at 0x7fdfe0546048>"
      ]
     },
     "metadata": {},
     "output_type": "display_data"
    }
   ],
   "source": [
    "seaborn.distplot(data['SalePrice'])"
   ]
  },
  {
   "cell_type": "markdown",
   "metadata": {},
   "source": [
    "## baseline"
   ]
  },
  {
   "cell_type": "code",
   "execution_count": 6,
   "metadata": {},
   "outputs": [],
   "source": [
    "columns = ['1stFlrSF', '2ndFlrSF', 'LowQualFinSF', 'GrLivArea', 'HasBsmtFinSF2',\n",
    "       'HasTotalBsmtSF', 'HasGarageArea', 'BldgType_1Fam', 'BldgType_2fmCon',\n",
    "       'BldgType_Duplex', 'BldgType_Twnhs', 'BldgType_TwnhsE', 'BsmtQual_0',\n",
    "       'BsmtQual_Ex', 'BsmtQual_Fa', 'BsmtQual_Gd', 'BsmtQual_TA',\n",
    "       'BsmtCond_0', 'BsmtExposure_0', 'BsmtExposure_Gd', 'BsmtFinType1_0',\n",
    "       'BsmtFinType1_ALQ', 'BsmtFinType1_GLQ', 'BsmtFinType2_Unf',\n",
    "       'CentralAir_N', 'CentralAir_Y', 'KitchenQual_Ex', 'KitchenQual_Fa',\n",
    "       'KitchenQual_Gd', 'KitchenQual_TA', 'GarageType_0', 'GarageFinish_0',\n",
    "       'GarageFinish_Fin', 'GarageFinish_RFn', 'GarageFinish_Unf',\n",
    "       'GarageQual_0', 'GarageCond_0']\n",
    "X = df_tr[columns]\n",
    "X_te = df_te[columns]"
   ]
  },
  {
   "cell_type": "code",
   "execution_count": 7,
   "metadata": {},
   "outputs": [
    {
     "data": {
      "text/plain": [
       "37"
      ]
     },
     "execution_count": 7,
     "metadata": {},
     "output_type": "execute_result"
    }
   ],
   "source": [
    "len(columns)"
   ]
  },
  {
   "cell_type": "code",
   "execution_count": 8,
   "metadata": {},
   "outputs": [
    {
     "data": {
      "text/plain": [
       "((1095, 37), (365, 37))"
      ]
     },
     "execution_count": 8,
     "metadata": {},
     "output_type": "execute_result"
    }
   ],
   "source": [
    "X.shape, X_te.shape"
   ]
  },
  {
   "cell_type": "code",
   "execution_count": 9,
   "metadata": {},
   "outputs": [
    {
     "data": {
      "text/plain": [
       "0.22679647933467659"
      ]
     },
     "execution_count": 9,
     "metadata": {},
     "output_type": "execute_result"
    }
   ],
   "source": [
    "clf = LinearRegression()\n",
    "clf.fit(X, y)\n",
    "numpy.sqrt(mean_squared_error(clf.predict(X_te), y_te))"
   ]
  },
  {
   "cell_type": "markdown",
   "metadata": {},
   "source": [
    "## pca"
   ]
  },
  {
   "cell_type": "markdown",
   "metadata": {},
   "source": [
    "Use PCA to transform features. Hereafter the feature obtained from PCA will be used."
   ]
  },
  {
   "cell_type": "code",
   "execution_count": 10,
   "metadata": {},
   "outputs": [],
   "source": [
    "X = df_tr.drop(['SalePrice'], axis=1)\n",
    "X_te = df_te.drop(['SalePrice'], axis=1)\n",
    "pca = PCA()\n",
    "X = pca.fit_transform(X)\n",
    "X_te = pca.transform(X_te)"
   ]
  },
  {
   "cell_type": "markdown",
   "metadata": {},
   "source": [
    "Cumulative sum shows that a few features can explain all variance. The first component explains more than 98% of all variance."
   ]
  },
  {
   "cell_type": "code",
   "execution_count": 11,
   "metadata": {
    "scrolled": false
   },
   "outputs": [
    {
     "data": {
      "text/plain": [
       "array([ 0.98571539,  0.99038389,  0.993692  ,  0.99651366,  0.99852322,\n",
       "        0.99898767,  0.99925898,  0.99949919,  0.99967311,  0.99980298,\n",
       "        0.99984308,  0.99988034,  0.99991326,  0.99994288,  0.99995872,\n",
       "        0.99997084,  0.9999811 ,  0.99999074,  0.99999639,  0.99999832,\n",
       "        0.99999919,  0.99999935,  0.99999945,  0.99999954,  0.99999961,\n",
       "        0.99999968,  0.99999973,  0.99999977,  0.99999981,  0.99999984,\n",
       "        0.99999985,  0.99999986,  0.99999987,  0.99999988,  0.99999989,\n",
       "        0.99999989,  0.9999999 ,  0.9999999 ,  0.9999999 ,  0.99999991,\n",
       "        0.99999991,  0.99999991,  0.99999992,  0.99999992,  0.99999992,\n",
       "        0.99999992,  0.99999993,  0.99999993,  0.99999993,  0.99999993,\n",
       "        0.99999993,  0.99999994,  0.99999994,  0.99999994,  0.99999994,\n",
       "        0.99999994,  0.99999995,  0.99999995,  0.99999995,  0.99999995,\n",
       "        0.99999995,  0.99999995,  0.99999995,  0.99999996,  0.99999996,\n",
       "        0.99999996,  0.99999996,  0.99999996,  0.99999996,  0.99999996,\n",
       "        0.99999996,  0.99999996,  0.99999997,  0.99999997,  0.99999997,\n",
       "        0.99999997,  0.99999997,  0.99999997,  0.99999997,  0.99999997,\n",
       "        0.99999997,  0.99999997,  0.99999997,  0.99999997,  0.99999998,\n",
       "        0.99999998,  0.99999998,  0.99999998,  0.99999998,  0.99999998,\n",
       "        0.99999998,  0.99999998,  0.99999998,  0.99999998,  0.99999998,\n",
       "        0.99999998,  0.99999998,  0.99999998,  0.99999998,  0.99999998,\n",
       "        0.99999998,  0.99999998,  0.99999998,  0.99999998,  0.99999999,\n",
       "        0.99999999,  0.99999999,  0.99999999,  0.99999999,  0.99999999,\n",
       "        0.99999999,  0.99999999,  0.99999999,  0.99999999,  0.99999999,\n",
       "        0.99999999,  0.99999999,  0.99999999,  0.99999999,  0.99999999,\n",
       "        0.99999999,  0.99999999,  0.99999999,  0.99999999,  0.99999999,\n",
       "        0.99999999,  0.99999999,  0.99999999,  0.99999999,  0.99999999,\n",
       "        0.99999999,  0.99999999,  0.99999999,  0.99999999,  0.99999999,\n",
       "        0.99999999,  0.99999999,  0.99999999,  0.99999999,  0.99999999,\n",
       "        0.99999999,  0.99999999,  0.99999999,  0.99999999,  1.        ,\n",
       "        1.        ,  1.        ,  1.        ,  1.        ,  1.        ,\n",
       "        1.        ,  1.        ,  1.        ,  1.        ,  1.        ,\n",
       "        1.        ,  1.        ,  1.        ,  1.        ,  1.        ,\n",
       "        1.        ,  1.        ,  1.        ,  1.        ,  1.        ,\n",
       "        1.        ,  1.        ,  1.        ,  1.        ,  1.        ,\n",
       "        1.        ,  1.        ,  1.        ,  1.        ,  1.        ,\n",
       "        1.        ,  1.        ,  1.        ,  1.        ,  1.        ,\n",
       "        1.        ,  1.        ,  1.        ,  1.        ,  1.        ,\n",
       "        1.        ,  1.        ,  1.        ,  1.        ,  1.        ,\n",
       "        1.        ,  1.        ,  1.        ,  1.        ,  1.        ,\n",
       "        1.        ,  1.        ,  1.        ,  1.        ,  1.        ,\n",
       "        1.        ,  1.        ,  1.        ,  1.        ,  1.        ,\n",
       "        1.        ,  1.        ,  1.        ,  1.        ,  1.        ,\n",
       "        1.        ,  1.        ,  1.        ,  1.        ,  1.        ,\n",
       "        1.        ,  1.        ,  1.        ,  1.        ,  1.        ,\n",
       "        1.        ,  1.        ,  1.        ,  1.        ,  1.        ,\n",
       "        1.        ,  1.        ,  1.        ,  1.        ,  1.        ,\n",
       "        1.        ,  1.        ,  1.        ,  1.        ,  1.        ,\n",
       "        1.        ,  1.        ,  1.        ,  1.        ,  1.        ,\n",
       "        1.        ,  1.        ,  1.        ,  1.        ,  1.        ,\n",
       "        1.        ,  1.        ,  1.        ,  1.        ,  1.        ,\n",
       "        1.        ,  1.        ,  1.        ,  1.        ,  1.        ,\n",
       "        1.        ,  1.        ,  1.        ,  1.        ,  1.        ,\n",
       "        1.        ,  1.        ,  1.        ,  1.        ,  1.        ,\n",
       "        1.        ,  1.        ,  1.        ,  1.        ,  1.        ,\n",
       "        1.        ,  1.        ,  1.        ,  1.        ,  1.        ,\n",
       "        1.        ,  1.        ,  1.        ,  1.        ,  1.        ,\n",
       "        1.        ,  1.        ,  1.        ,  1.        ,  1.        ,\n",
       "        1.        ,  1.        ,  1.        ,  1.        ,  1.        ,\n",
       "        1.        ,  1.        ,  1.        ,  1.        ,  1.        ,\n",
       "        1.        ,  1.        ,  1.        ,  1.        ,  1.        ,\n",
       "        1.        ,  1.        ,  1.        ,  1.        ,  1.        ,\n",
       "        1.        ,  1.        ,  1.        ,  1.        ,  1.        ,\n",
       "        1.        ,  1.        ,  1.        ,  1.        ,  1.        ,\n",
       "        1.        ,  1.        ,  1.        ,  1.        ,  1.        ,\n",
       "        1.        ,  1.        ,  1.        ,  1.        ,  1.        ])"
      ]
     },
     "execution_count": 11,
     "metadata": {},
     "output_type": "execute_result"
    }
   ],
   "source": [
    "numpy.cumsum(pca.explained_variance_ratio_)"
   ]
  },
  {
   "cell_type": "code",
   "execution_count": 12,
   "metadata": {},
   "outputs": [
    {
     "data": {
      "image/png": "[encoded data removed]",
      "text/plain": [
       "<matplotlib.figure.Figure at 0x7fdfe0348470>"
      ]
     },
     "metadata": {},
     "output_type": "display_data"
    }
   ],
   "source": [
    "pyplot.scatter(X[:, 1], y, marker='.', alpha=0.5)\n",
    "pyplot.xlabel('pc1')\n",
    "pyplot.ylabel('sale price')\n",
    "pyplot.grid()"
   ]
  },
  {
   "cell_type": "code",
   "execution_count": 13,
   "metadata": {
    "scrolled": true
   },
   "outputs": [
    {
     "data": {
      "image/png": "[encoded data removed]",
      "text/plain": [
       "<matplotlib.figure.Figure at 0x7fdfe0295908>"
      ]
     },
     "metadata": {},
     "output_type": "display_data"
    }
   ],
   "source": [
    "fig, (ax1, ax2) = pyplot.subplots(nrows=2, sharex=True)\n",
    "ax1.plot(numpy.cumsum(pca.explained_variance_ratio_))\n",
    "ax2.bar(numpy.arange(pca.n_components_), pca.explained_variance_ratio_)\n",
    "ax2.set_xlabel('component index')\n",
    "for ax in ax1, ax2:\n",
    "    ax.set_ylabel('explained variance')"
   ]
  },
  {
   "cell_type": "markdown",
   "metadata": {},
   "source": [
    "Use linear regression for increasing number of principal components."
   ]
  },
  {
   "cell_type": "code",
   "execution_count": 14,
   "metadata": {
    "scrolled": true
   },
   "outputs": [],
   "source": [
    "rmsles = numpy.zeros(pca.n_components_)\n",
    "for components in range(1, pca.n_components_ + 1):\n",
    "    # evaluate linear regression\n",
    "    clf = LinearRegression()\n",
    "    clf.fit(X[:, :components], y)\n",
    "    rmsles[components - 1] = numpy.sqrt(mean_squared_error(clf.predict(X_te[:, :components]), y_te))"
   ]
  },
  {
   "cell_type": "markdown",
   "metadata": {},
   "source": [
    "After 265 pricipal component as input to the classifier the RMSLE increases dramatically."
   ]
  },
  {
   "cell_type": "code",
   "execution_count": 15,
   "metadata": {},
   "outputs": [
    {
     "data": {
      "text/plain": [
       "array([   108888.78935331,    108888.78935888,   1689910.40325764,\n",
       "        10604878.9024102 ,  12212163.80159554,  12208681.15493168,\n",
       "        11654596.30814885,   9302201.05871812,  14756594.81547478,\n",
       "         1749782.68865123,   2623643.43875456,   2602168.48197043,\n",
       "         2708526.19065385,   3258835.05973557,  15330333.20272811,\n",
       "        15330333.20251338,  17397370.43128831,  10352423.77063717,\n",
       "        15666789.2921128 ,  13844028.85525101,  10758462.95136465,\n",
       "         8526985.71609293,   3425349.94642963,   2486177.30695306,\n",
       "         4820575.57036875,   5397737.5607661 ,   4499381.94101336,\n",
       "         6505719.03014184,   6606188.91955212,   4044329.34657148,\n",
       "         1235116.12915724,    441115.11976531,   2664361.62218855,\n",
       "          737724.54383938,    737724.54388404,    439094.09606067,\n",
       "         4393201.66983104,   3492806.33873342,   3929781.2337626 ,\n",
       "         4267286.48357819,   4177217.611038  ,   4708008.99597968,\n",
       "         6412019.9059526 ,   6114545.773397  ,  10149627.37379857,\n",
       "         9625572.21530445,   9778152.26334281,   7379356.14435793,\n",
       "         8253973.74944914,   1882960.38280378,   3396831.41953149,\n",
       "         3571340.25254152,   1809639.2189741 ,   2390494.55116741,\n",
       "         3910156.33100881,   4345088.67268998,   4487746.55227225,\n",
       "         4825768.72460836,   5154209.36576977,   5555117.08613204])"
      ]
     },
     "execution_count": 15,
     "metadata": {},
     "output_type": "execute_result"
    }
   ],
   "source": [
    "rmsles[265:]"
   ]
  },
  {
   "cell_type": "code",
   "execution_count": 16,
   "metadata": {},
   "outputs": [
    {
     "data": {
      "text/plain": [
       "array([ 0.38620412,  0.31143936,  0.3164349 ,  0.32116586,  0.32273015,\n",
       "        0.32457759,  0.32374334,  0.31779164,  0.3103712 ,  0.30851143,\n",
       "        0.30627377,  0.30656079,  0.30557503,  0.30541543,  0.30538035,\n",
       "        0.30957202,  0.30829474,  0.3096994 ,  0.26208615,  0.26186907,\n",
       "        0.25895369,  0.25542683,  0.25557775,  0.25601785,  0.25448839,\n",
       "        0.2533177 ,  0.25347679,  0.24955322,  0.24911599,  0.24717542,\n",
       "        0.24722726,  0.25311226,  0.25136462,  0.21788052,  0.20833758,\n",
       "        0.20970401,  0.20967847,  0.20991496,  0.19736042,  0.19610844,\n",
       "        0.1951185 ,  0.19527123,  0.19336337,  0.19172986,  0.19170807,\n",
       "        0.19349845,  0.18740661,  0.18833813,  0.18890283,  0.18852733,\n",
       "        0.18637152,  0.18675495,  0.18707734,  0.18705014,  0.18810488,\n",
       "        0.18697436,  0.18711573,  0.18700081,  0.18648413,  0.18637886,\n",
       "        0.18628733,  0.18669644,  0.18523942,  0.18508244,  0.18506562,\n",
       "        0.18500118,  0.18708715,  0.18723301,  0.18994648,  0.18947253,\n",
       "        0.18940156,  0.18874715,  0.19255289,  0.20335054,  0.20280277,\n",
       "        0.20437293,  0.20043955,  0.20056234,  0.19502486,  0.19377575,\n",
       "        0.19466493,  0.19529937,  0.19419403,  0.19323442,  0.19104157,\n",
       "        0.19033346,  0.19033193,  0.19142136,  0.19216138,  0.19030018,\n",
       "        0.19021489,  0.19057643,  0.18472781,  0.18423155,  0.18396328,\n",
       "        0.18398337,  0.1840363 ,  0.18414371,  0.18460853,  0.18355126,\n",
       "        0.18354832,  0.18266487,  0.18301144,  0.18278785,  0.18454032,\n",
       "        0.18355351,  0.18330447,  0.18228519,  0.18094628,  0.17958692,\n",
       "        0.18024324,  0.18095943,  0.18198926,  0.1819901 ,  0.18193237,\n",
       "        0.18251138,  0.18250669,  0.18052468,  0.18062018,  0.17807426,\n",
       "        0.1781138 ,  0.17598945,  0.17413678,  0.17418647,  0.17031364,\n",
       "        0.170727  ,  0.17185793,  0.17086681,  0.17027356,  0.17031855,\n",
       "        0.17060782,  0.17059729,  0.16883389,  0.16980034,  0.16963644,\n",
       "        0.1712536 ,  0.17071237,  0.16836415,  0.16885443,  0.16839945,\n",
       "        0.16806839,  0.16820071,  0.16787312,  0.16792958,  0.16775208,\n",
       "        0.16775187,  0.16761088,  0.16504942,  0.16570044,  0.16653655,\n",
       "        0.16660388,  0.16520104,  0.16359533,  0.16364626,  0.16433226,\n",
       "        0.16384141,  0.16167157,  0.16260216,  0.16228435,  0.16310995,\n",
       "        0.16351229,  0.16370367,  0.16389247,  0.16389341,  0.16418577,\n",
       "        0.16411114,  0.16454009,  0.16372   ,  0.16295097,  0.16333915,\n",
       "        0.16399553,  0.16365694,  0.16432224,  0.16324547,  0.16293573,\n",
       "        0.16298309,  0.16268944,  0.16370102,  0.16350515,  0.16342975,\n",
       "        0.16355697,  0.163112  ,  0.16303276,  0.16279457,  0.16281352,\n",
       "        0.16099032,  0.16293835,  0.16285615,  0.16301048,  0.16235074,\n",
       "        0.1624274 ,  0.16128745,  0.15956392,  0.1600294 ,  0.16009719,\n",
       "        0.16030394,  0.16225556,  0.16280135,  0.16278586,  0.16456644,\n",
       "        0.16611046,  0.16612367,  0.16609275,  0.1651062 ,  0.16419824,\n",
       "        0.16441239,  0.16553517,  0.16553833,  0.16620404,  0.16628944,\n",
       "        0.16759573,  0.16764463,  0.16760203,  0.16769728,  0.16917716,\n",
       "        0.16670271,  0.16640855,  0.16649665,  0.16548651,  0.16374728,\n",
       "        0.16780479,  0.16978433,  0.16981147,  0.16972226,  0.17127296,\n",
       "        0.17364827,  0.17450122,  0.17477501,  0.17365368,  0.1737997 ,\n",
       "        0.17381886,  0.17385724,  0.17339306,  0.17314296,  0.17280719,\n",
       "        0.17265308,  0.17361927,  0.17357507,  0.17351251,  0.17321323,\n",
       "        0.17461605,  0.17484341,  0.17445487,  0.1744287 ,  0.17472854,\n",
       "        0.17599808,  0.17750743,  0.17752495,  0.17756844,  0.17790126,\n",
       "        0.17740853,  0.17710448,  0.1766999 ,  0.17653211,  0.17727491,\n",
       "        0.17968775,  0.17829698,  0.23830558,  0.23563888,  0.23542542,\n",
       "        0.23639823,  0.23199826,  0.23089016,  0.22867595,  0.27259693])"
      ]
     },
     "execution_count": 16,
     "metadata": {},
     "output_type": "execute_result"
    }
   ],
   "source": [
    "rmsles[:265]"
   ]
  },
  {
   "cell_type": "markdown",
   "metadata": {},
   "source": [
    "The best result is for first 193 principal components."
   ]
  },
  {
   "cell_type": "code",
   "execution_count": 17,
   "metadata": {},
   "outputs": [
    {
     "data": {
      "text/plain": [
       "(193, 0.15956392019129564)"
      ]
     },
     "execution_count": 17,
     "metadata": {},
     "output_type": "execute_result"
    }
   ],
   "source": [
    "numpy.argmin(rmsles) + 1, numpy.min(rmsles)"
   ]
  },
  {
   "cell_type": "code",
   "execution_count": 18,
   "metadata": {
    "scrolled": true
   },
   "outputs": [
    {
     "data": {
      "text/plain": [
       "<matplotlib.text.Text at 0x7fdfdd8dff60>"
      ]
     },
     "execution_count": 18,
     "metadata": {},
     "output_type": "execute_result"
    },
    {
     "data": {
      "image/png": "[encoded data removed]",
      "text/plain": [
       "<matplotlib.figure.Figure at 0x7fdfdde61358>"
      ]
     },
     "metadata": {},
     "output_type": "display_data"
    }
   ],
   "source": [
    "pyplot.scatter(range(1, pca.n_components_ + 1)[:265], rmsles[:265], marker='.')\n",
    "pyplot.grid()\n",
    "pyplot.ylabel('RMSLE')\n",
    "pyplot.xlabel('number of PCs')"
   ]
  },
  {
   "cell_type": "markdown",
   "metadata": {},
   "source": [
    "## remove discrete features"
   ]
  },
  {
   "cell_type": "code",
   "execution_count": 19,
   "metadata": {},
   "outputs": [
    {
     "name": "stdout",
     "output_type": "stream",
     "text": [
      "<class 'pandas.core.frame.DataFrame'>\n",
      "Int64Index: 1460 entries, 1 to 1460\n",
      "Columns: 326 entries, MSSubClass to SaleCondition_Partial\n",
      "dtypes: float64(32), int64(294)\n",
      "memory usage: 3.6 MB\n"
     ]
    }
   ],
   "source": [
    "data.info()"
   ]
  },
  {
   "cell_type": "code",
   "execution_count": 20,
   "metadata": {},
   "outputs": [],
   "source": [
    "data_float = data.select_dtypes(include=['float64'])\n",
    "df_tr, df_te = train_test_split(data_float, test_size=0.25, random_state=458)\n",
    "\n",
    "X = df_tr.drop(['SalePrice'], axis=1)\n",
    "X_te = df_te.drop(['SalePrice'], axis=1)\n",
    "\n",
    "pca = PCA()\n",
    "X = pca.fit_transform(X)\n",
    "X_te = pca.transform(X_te)"
   ]
  },
  {
   "cell_type": "code",
   "execution_count": 21,
   "metadata": {},
   "outputs": [
    {
     "data": {
      "image/png": "[encoded data removed]",
      "text/plain": [
       "<matplotlib.figure.Figure at 0x7fdfdd81e2b0>"
      ]
     },
     "metadata": {},
     "output_type": "display_data"
    }
   ],
   "source": [
    "fig, (ax1, ax2) = pyplot.subplots(nrows=2, sharex=True)\n",
    "ax1.plot(numpy.cumsum(pca.explained_variance_ratio_))\n",
    "ax2.bar(numpy.arange(pca.n_components_), pca.explained_variance_ratio_)\n",
    "ax2.set_xlabel('component index')\n",
    "for ax in ax1, ax2:\n",
    "    ax.set_ylabel('explained variance')"
   ]
  },
  {
   "cell_type": "code",
   "execution_count": 22,
   "metadata": {},
   "outputs": [
    {
     "data": {
      "text/plain": [
       "array([ 0.380088  ,  0.35987687,  0.34826777,  0.33457415,  0.33306531,\n",
       "        0.33094505,  0.27405987,  0.26979842,  0.26985926,  0.25421941,\n",
       "        0.25481446,  0.2530882 ,  0.25052143,  0.25235557,  0.25311526,\n",
       "        0.25301847,  0.25235259,  0.24546437,  0.24718521,  0.24273583,\n",
       "        0.24354132,  0.2457302 ,  0.24530705,  0.24648025,  0.24980096,\n",
       "        0.24838169,  0.24814647,  0.25458982,  0.23879171,  0.23027366,\n",
       "        0.23320138])"
      ]
     },
     "execution_count": 22,
     "metadata": {},
     "output_type": "execute_result"
    }
   ],
   "source": [
    "rmsles = numpy.zeros(pca.n_components_)\n",
    "for components in range(1, pca.n_components_ + 1):\n",
    "    # evaluate linear regression\n",
    "    clf = LinearRegression()\n",
    "    clf.fit(X[:, :components], y)\n",
    "    rmsles[components - 1] = numpy.sqrt(mean_squared_error(clf.predict(X_te[:, :components]), y_te))\n",
    "rmsles"
   ]
  },
  {
   "cell_type": "code",
   "execution_count": 23,
   "metadata": {},
   "outputs": [
    {
     "data": {
      "text/plain": [
       "<matplotlib.text.Text at 0x7fdfdd651eb8>"
      ]
     },
     "execution_count": 23,
     "metadata": {},
     "output_type": "execute_result"
    },
    {
     "data": {
      "image/png": "[encoded data removed]",
      "text/plain": [
       "<matplotlib.figure.Figure at 0x7fdfdd6f8048>"
      ]
     },
     "metadata": {},
     "output_type": "display_data"
    }
   ],
   "source": [
    "pyplot.scatter(range(1, pca.n_components_ + 1), rmsles, marker='.')\n",
    "pyplot.grid()\n",
    "pyplot.ylabel('RMSLE')\n",
    "pyplot.xlabel('number of PCs')"
   ]
  },
  {
   "cell_type": "markdown",
   "metadata": {},
   "source": [
    "The result without discrete features after PCA application is better than on raw data."
   ]
  },
  {
   "cell_type": "markdown",
   "metadata": {},
   "source": [
    "## removing indicators"
   ]
  },
  {
   "cell_type": "code",
   "execution_count": 24,
   "metadata": {
    "scrolled": true
   },
   "outputs": [
    {
     "data": {
      "image/png": "[encoded data removed]",
      "text/plain": [
       "<matplotlib.figure.Figure at 0x7fdfe02a3080>"
      ]
     },
     "metadata": {},
     "output_type": "display_data"
    }
   ],
   "source": [
    "data_rich = data.drop(data.columns[data.nunique() <= 2], axis=1)\n",
    "df_tr, df_te = train_test_split(data_rich, test_size=0.25, random_state=458)\n",
    "\n",
    "X = df_tr.drop(['SalePrice'], axis=1)\n",
    "X_te = df_te.drop(['SalePrice'], axis=1)\n",
    "\n",
    "pca = PCA()\n",
    "X = pca.fit_transform(X)\n",
    "X_te = pca.transform(X_te)\n",
    "\n",
    "fig, (ax1, ax2) = pyplot.subplots(nrows=2, sharex=True)\n",
    "ax1.plot(numpy.cumsum(pca.explained_variance_ratio_))\n",
    "ax2.bar(numpy.arange(pca.n_components_), pca.explained_variance_ratio_)\n",
    "ax2.set_xlabel('component index')\n",
    "for ax in ax1, ax2:\n",
    "    ax.set_ylabel('explained variance')"
   ]
  },
  {
   "cell_type": "code",
   "execution_count": 25,
   "metadata": {
    "scrolled": true
   },
   "outputs": [
    {
     "data": {
      "text/plain": [
       "array([ 0.38620413,  0.31143979,  0.31643538,  0.32116637,  0.32273061,\n",
       "        0.32457811,  0.32374403,  0.31779249,  0.31037294,  0.30851333,\n",
       "        0.30627738,  0.30656487,  0.30557898,  0.30541984,  0.3053845 ,\n",
       "        0.30957282,  0.30829684,  0.30970033,  0.26213154,  0.2619146 ,\n",
       "        0.25900006,  0.25528228,  0.25585225,  0.25585064,  0.25440485,\n",
       "        0.25320394,  0.25334848,  0.24967822,  0.24928359,  0.24673663,\n",
       "        0.24678318,  0.26607618,  0.25155863,  0.22269771,  0.19802374,\n",
       "        0.19378294,  0.19393984,  0.1919613 ,  0.19265658,  0.19208108,\n",
       "        0.19051685,  0.19048556,  0.19148259,  0.19569248,  0.19227248,\n",
       "        0.1976741 ,  0.19770316,  0.19726365,  0.1968977 ,  0.19534682,\n",
       "        0.19476953,  0.19241621,  0.19008404,  0.18383335,  0.18367282,\n",
       "        0.18436271,  0.18474854,  0.18440935,  0.21733674,  0.23212113,\n",
       "        0.22741989,  0.22741989,  0.22741989])"
      ]
     },
     "execution_count": 25,
     "metadata": {},
     "output_type": "execute_result"
    }
   ],
   "source": [
    "rmsles = numpy.zeros(pca.n_components_)\n",
    "for components in range(1, pca.n_components_ + 1):\n",
    "    # evaluate linear Regression\n",
    "    clf = LinearRegression()\n",
    "    clf.fit(X[:, :components], y)\n",
    "    rmsles[components - 1] = numpy.sqrt(mean_squared_error(clf.predict(X_te[:, :components]), y_te))\n",
    "rmsles"
   ]
  },
  {
   "cell_type": "code",
   "execution_count": 26,
   "metadata": {},
   "outputs": [
    {
     "data": {
      "text/plain": [
       "(0.18367282057607767, 55)"
      ]
     },
     "execution_count": 26,
     "metadata": {},
     "output_type": "execute_result"
    }
   ],
   "source": [
    "rmsles.min(), rmsles.argmin() + 1"
   ]
  },
  {
   "cell_type": "code",
   "execution_count": 27,
   "metadata": {
    "scrolled": true
   },
   "outputs": [
    {
     "data": {
      "text/plain": [
       "<matplotlib.text.Text at 0x7fdfddd94c18>"
      ]
     },
     "execution_count": 27,
     "metadata": {},
     "output_type": "execute_result"
    },
    {
     "data": {
      "image/png": "[encoded data removed]",
      "text/plain": [
       "<matplotlib.figure.Figure at 0x7fdfdd53dd30>"
      ]
     },
     "metadata": {},
     "output_type": "display_data"
    }
   ],
   "source": [
    "pyplot.scatter(range(1, pca.n_components_ + 1), rmsles, marker='.')\n",
    "pyplot.grid()\n",
    "pyplot.ylabel('RMSLE')\n",
    "pyplot.xlabel('number of PCs')"
   ]
  },
  {
   "cell_type": "markdown",
   "metadata": {},
   "source": [
    "Result without indicators is also almost as good as with all PCA features."
   ]
  },
  {
   "cell_type": "markdown",
   "metadata": {},
   "source": [
    "## feature selection\n",
    "\n",
    "select as less as possible features"
   ]
  },
  {
   "cell_type": "code",
   "execution_count": 28,
   "metadata": {},
   "outputs": [],
   "source": [
    "df_tr, df_te = train_test_split(data, test_size=0.25, random_state=458)\n",
    "X = df_tr.drop(['SalePrice'], axis=1)\n",
    "X_te = df_te.drop(['SalePrice'], axis=1)\n",
    "pca = PCA()\n",
    "X = pca.fit_transform(X)\n",
    "X_te = pca.transform(X_te)"
   ]
  },
  {
   "cell_type": "markdown",
   "metadata": {},
   "source": [
    "### univariate feature selection"
   ]
  },
  {
   "cell_type": "markdown",
   "metadata": {},
   "source": [
    "#### f-test"
   ]
  },
  {
   "cell_type": "code",
   "execution_count": 29,
   "metadata": {},
   "outputs": [
    {
     "data": {
      "text/plain": [
       "(22, 0.20786357405154246)"
      ]
     },
     "execution_count": 29,
     "metadata": {},
     "output_type": "execute_result"
    }
   ],
   "source": [
    "rmsles = numpy.zeros(pca.n_components_)\n",
    "for k in range(1, pca.n_components_ + 1):\n",
    "    kbest = SelectKBest(f_regression, k=k)\n",
    "    X_new = kbest.fit_transform(X, y)\n",
    "    X_te_new = kbest.transform(X_te)\n",
    "    clf = LinearRegression()\n",
    "    clf.fit(X_new, y)\n",
    "    rmsles[k - 1] = numpy.sqrt(mean_squared_error(clf.predict(X_te_new), y_te))\n",
    "rmsles.argmin() + 1, rmsles.min()"
   ]
  },
  {
   "cell_type": "code",
   "execution_count": 30,
   "metadata": {},
   "outputs": [
    {
     "data": {
      "text/plain": [
       "(0, 0.5)"
      ]
     },
     "execution_count": 30,
     "metadata": {},
     "output_type": "execute_result"
    },
    {
     "data": {
      "image/png": "[encoded data removed]",
      "text/plain": [
       "<matplotlib.figure.Figure at 0x7fdfdd596b00>"
      ]
     },
     "metadata": {},
     "output_type": "display_data"
    }
   ],
   "source": [
    "pyplot.scatter(range(1, pca.n_components_ + 1), rmsles, marker='.')\n",
    "pyplot.grid()\n",
    "pyplot.ylabel('RMSLE')\n",
    "pyplot.xlabel('features selected')\n",
    "pyplot.ylim(bottom=0, top=0.5)"
   ]
  },
  {
   "cell_type": "markdown",
   "metadata": {},
   "source": [
    "### recursive feature elimination"
   ]
  },
  {
   "cell_type": "code",
   "execution_count": 31,
   "metadata": {},
   "outputs": [],
   "source": [
    "# only indicators\n",
    "data_float = data.drop(data.columns[data.nunique() <= 2], axis=1)\n",
    "df_tr, df_te = train_test_split(data_float, test_size=0.25, random_state=458)\n",
    "X = df_tr.drop(['SalePrice'], axis=1)\n",
    "y = df_tr['SalePrice']\n",
    "X_te = df_te.drop(['SalePrice'], axis=1)\n",
    "y_te = df_te['SalePrice']"
   ]
  },
  {
   "cell_type": "code",
   "execution_count": 32,
   "metadata": {},
   "outputs": [],
   "source": [
    "scaler = StandardScaler()\n",
    "X_scaled = scaler.fit_transform(X)\n",
    "X_te_scaled = scaler.transform(X_te)"
   ]
  },
  {
   "cell_type": "code",
   "execution_count": 33,
   "metadata": {},
   "outputs": [
    {
     "data": {
      "text/plain": [
       "array([ 1.,  1.,  1.,  1.,  1.,  1.,  1.,  1.,  1.,  1.,  1.,  1.,  1.,\n",
       "        1.,  1.,  1.,  1.,  1.,  1.,  1.,  1.,  1.,  1.,  1.,  1.,  1.,\n",
       "        1.,  1.,  1.,  1.,  1.,  1.,  1.,  1.,  1.,  1.,  1.,  1.,  1.,\n",
       "        1.,  1.,  1.,  1.,  1.,  1.,  1.,  1.,  1.,  1.,  1.,  1.,  1.,\n",
       "        1.,  1.,  1.,  1.,  1.,  1.,  1.,  1.,  1.,  1.,  1.])"
      ]
     },
     "execution_count": 33,
     "metadata": {},
     "output_type": "execute_result"
    }
   ],
   "source": [
    "X_scaled.std(axis=0)"
   ]
  },
  {
   "cell_type": "code",
   "execution_count": 34,
   "metadata": {},
   "outputs": [
    {
     "data": {
      "text/plain": [
       "array([ -1.62224369e-18,   4.54228233e-17,   1.13557058e-17,\n",
       "        -2.50636650e-16,   3.24448738e-16,  -3.56082490e-15,\n",
       "         4.07264278e-15,   2.43336553e-17,   8.27344281e-17,\n",
       "        -7.78676971e-17,   4.54228233e-17,  -4.21783359e-17,\n",
       "        -2.41714310e-16,   4.86673107e-17,   6.48897476e-18,\n",
       "        -1.09501449e-16,   7.30009660e-17,   0.00000000e+00,\n",
       "         3.08226301e-17,   1.07068083e-16,   2.06024948e-16,\n",
       "        -3.48782393e-16,  -2.70103574e-16,   1.37890714e-17,\n",
       "         1.09501449e-17,   7.17842832e-17,   1.46001932e-17,\n",
       "        -4.86673107e-18,  -1.13557058e-17,   0.00000000e+00,\n",
       "        -1.62224369e-17,   4.21783359e-17,  -2.59558990e-17,\n",
       "         5.67785291e-17,   7.08944826e-14,  -3.65004830e-16,\n",
       "         2.65966853e-15,  -2.27114116e-17,  -3.24448738e-18,\n",
       "         1.16801546e-16,  -4.36383552e-16,  -1.13557058e-17,\n",
       "         6.65119912e-17,   2.12513923e-16,   2.87137133e-16,\n",
       "        -6.09963627e-16,   9.08456466e-16,  -1.11691478e-15,\n",
       "         1.96210374e-15,  -5.67785291e-17,  -3.16337519e-17,\n",
       "        -3.89338485e-17,  -9.73346213e-18,   5.07762275e-16,\n",
       "         1.27995027e-15,  -3.91771851e-16,   5.61296316e-16,\n",
       "        -4.05560922e-17,  -1.63846613e-16,  -1.46001932e-16,\n",
       "        -1.71957831e-16,  -1.62224369e-18,  -3.24448738e-18])"
      ]
     },
     "execution_count": 34,
     "metadata": {},
     "output_type": "execute_result"
    }
   ],
   "source": [
    "X_scaled.mean(axis=0)"
   ]
  },
  {
   "cell_type": "code",
   "execution_count": 35,
   "metadata": {},
   "outputs": [
    {
     "data": {
      "text/plain": [
       "LinearRegression(copy_X=True, fit_intercept=True, n_jobs=1, normalize=False)"
      ]
     },
     "execution_count": 35,
     "metadata": {},
     "output_type": "execute_result"
    }
   ],
   "source": [
    "clf = LinearRegression()\n",
    "clf.fit(X_scaled, y)"
   ]
  },
  {
   "cell_type": "code",
   "execution_count": 36,
   "metadata": {},
   "outputs": [
    {
     "data": {
      "text/plain": [
       "<matplotlib.collections.PathCollection at 0x7fdfddaa6a90>"
      ]
     },
     "execution_count": 36,
     "metadata": {},
     "output_type": "execute_result"
    },
    {
     "data": {
      "image/png": "[encoded data removed]",
      "text/plain": [
       "<matplotlib.figure.Figure at 0x7fdfddc87668>"
      ]
     },
     "metadata": {},
     "output_type": "display_data"
    }
   ],
   "source": [
    "pyplot.scatter(range(1, len(clf.coef_) + 1), clf.coef_)"
   ]
  },
  {
   "cell_type": "code",
   "execution_count": 37,
   "metadata": {},
   "outputs": [
    {
     "data": {
      "text/plain": [
       "0.22660848682907969"
      ]
     },
     "execution_count": 37,
     "metadata": {},
     "output_type": "execute_result"
    }
   ],
   "source": [
    "numpy.sqrt(mean_squared_error(clf.predict(X_te_scaled), y_te))"
   ]
  },
  {
   "cell_type": "code",
   "execution_count": 38,
   "metadata": {},
   "outputs": [],
   "source": [
    "rmsles = list()\n",
    "for k in range(1, X.shape[1] + 1):\n",
    "    clf = LinearRegression()\n",
    "    rfe = RFE(estimator=clf, n_features_to_select=k, step=1)\n",
    "    rfe.fit(X, y)\n",
    "    clf.fit(rfe.transform(X), y)\n",
    "    rmsles.append(numpy.sqrt(mean_squared_error(clf.predict(rfe.transform(X_te)), y_te)))    "
   ]
  },
  {
   "cell_type": "code",
   "execution_count": 39,
   "metadata": {},
   "outputs": [
    {
     "data": {
      "text/plain": [
       "(0.18152094362669091, 32)"
      ]
     },
     "execution_count": 39,
     "metadata": {},
     "output_type": "execute_result"
    }
   ],
   "source": [
    "rmsles = numpy.array(rmsles)\n",
    "rmsles.min(), rmsles.argmin() + 1"
   ]
  },
  {
   "cell_type": "code",
   "execution_count": 40,
   "metadata": {},
   "outputs": [
    {
     "data": {
      "image/png": "[encoded data removed]",
      "text/plain": [
       "<matplotlib.figure.Figure at 0x7fdfddabf160>"
      ]
     },
     "metadata": {},
     "output_type": "display_data"
    }
   ],
   "source": [
    "pyplot.scatter(range(1, X.shape[1] + 1), rmsles, marker='.')\n",
    "pyplot.grid()"
   ]
  }
 ],
 "metadata": {
  "kernelspec": {
   "display_name": "Python 3",
   "language": "python",
   "name": "python3"
  },
  "language_info": {
   "codemirror_mode": {
    "name": "ipython",
    "version": 3
   },
   "file_extension": ".py",
   "mimetype": "text/x-python",
   "name": "python",
   "nbconvert_exporter": "python",
   "pygments_lexer": "ipython3",
   "version": "3.6.3"
  }
 },
 "nbformat": 4,
 "nbformat_minor": 2
}
